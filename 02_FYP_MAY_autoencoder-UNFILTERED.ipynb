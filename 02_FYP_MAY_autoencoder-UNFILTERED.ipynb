{
 "cells": [
  {
   "cell_type": "code",
   "execution_count": 37,
   "metadata": {
    "id": "lMElGYUIljFH"
   },
   "outputs": [
    {
     "name": "stdout",
     "output_type": "stream",
     "text": [
      "Num GPUs Available:  0\n"
     ]
    }
   ],
   "source": [
    "import numpy as np\n",
    "import matplotlib.pyplot as plt\n",
    "import pandas as pd\n",
    "import seaborn as sns\n",
    "import tensorflow as tf\n",
    "import scipy\n",
    "import glob\n",
    "import sklearn \n",
    "from sklearn.model_selection import train_test_split\n",
    "from keras import optimizers\n",
    "from keras.layers import Input, Activation, Dense, LeakyReLU\n",
    "from keras.models import Sequential, Model\n",
    "from keras.callbacks import ModelCheckpoint\n",
    "print(\"Num GPUs Available: \", len(tf.config.experimental.list_physical_devices('GPU')))"
   ]
  },
  {
   "cell_type": "code",
   "execution_count": 38,
   "metadata": {},
   "outputs": [],
   "source": [
    "gpus = tf.config.experimental.list_physical_devices('GPU')\n",
    "if gpus:\n",
    "    try:\n",
    "        for gpu in gpus:\n",
    "            tf.config.experimental.set_memory_growth(gpu, True)\n",
    "    except RuntimeError as e:\n",
    "            print(e)"
   ]
  },
  {
   "cell_type": "markdown",
   "metadata": {},
   "source": [
    "# UNFILTERED"
   ]
  },
  {
   "cell_type": "code",
   "execution_count": 39,
   "metadata": {},
   "outputs": [],
   "source": [
    "# Data import, wt and mutant\n",
    "accuracy = 84\n",
    "importance = 25\n",
    "\n",
    "wt_unfiltered =glob.glob('wildtype*.lccdata')\n",
    "\n",
    "# filtered wt LCC data import\n",
    "wt_un_var_names = []\n",
    "\n",
    "for window in range(3,24):\n",
    "    wt_un_var_names.append('wt_'+str(window))\n",
    "\n",
    "wt_un_var_names.append('wt_25')\n",
    "    \n",
    "for var, file in zip(wt_un_var_names, wt_unfiltered):\n",
    "    globals()[var] = pd.read_csv(file,sep='\\t').drop(columns='Unnamed: 0')\n",
    "\n",
    "# filtered mutant LCC data import\n",
    "\n",
    "D132H_unfiltered =glob.glob('myc*.lccdata')\n",
    "\n",
    "D132H_un_var_names = []\n",
    "\n",
    "for window in range(3,24):\n",
    "    D132H_un_var_names.append('D132H_'+str(window))\n",
    "    \n",
    "D132H_un_var_names.append('D132H_25')\n",
    "\n",
    "    \n",
    "for var, file in zip(D132H_un_var_names, D132H_unfiltered):\n",
    "    globals()[var] = pd.read_csv(file,sep='\\t').drop(columns='Unnamed: 0')"
   ]
  },
  {
   "cell_type": "code",
   "execution_count": 40,
   "metadata": {
    "scrolled": true
   },
   "outputs": [],
   "source": [
    "# Concateneate wt and mutant dataframes\n",
    "\n",
    "wt_unf = pd.concat([wt_3, wt_4, wt_5, wt_6, wt_7, wt_8, wt_9, \n",
    "                    wt_10, wt_11, wt_12, wt_13, wt_14, wt_15, \n",
    "                    wt_16, wt_17, wt_18, wt_19, wt_20, wt_21, \n",
    "                    wt_22, wt_23, wt_25], axis = 1)\n",
    "    \n",
    "D132H_unf = pd.concat([D132H_3, D132H_4, D132H_5, D132H_6, D132H_7, \n",
    "                       D132H_8, D132H_9, D132H_10 D132H_11, D132H_12, \n",
    "                       D132H_13, D132H_14, D132H_15, D132H_16, D132H_17, \n",
    "                       D132H_18, D132H_19, D132H_20, D132H_21, D132H_22, \n",
    "                       D132H_23, D132H_25], axis = 1)\n",
    "\n",
    "colnames = [*range(0,246)]\n",
    "colnames\n",
    "wt_unf.columns = colnames\n",
    "D132H_unf.columns = colnames\n"
   ]
  },
  {
   "cell_type": "code",
   "execution_count": 41,
   "metadata": {},
   "outputs": [],
   "source": [
    "# Data pre processing\n",
    "\n",
    "def labels(wt, mutant):\n",
    "    \n",
    "    wt_label = np.zeros(len(wt)) # Set wt labels to 0\n",
    "    \n",
    "    mutant_label = np.ones(len(mutant))\n",
    "    \n",
    "    # Concatenate data frames and label arrays\n",
    "\n",
    "    X_train_full = pd.concat([wt, mutant])\n",
    "    y_train_full = np.concatenate((wt_label, mutant_label))\n",
    "\n",
    "    return X_train_full, y_train_full"
   ]
  },
  {
   "cell_type": "code",
   "execution_count": 42,
   "metadata": {},
   "outputs": [],
   "source": [
    "# Data pre processing\n",
    "\n",
    "def preprocessing(wt, mutant):\n",
    "    \n",
    "    wt_label = np.zeros(len(wt)) # Set wt labels to 0\n",
    "    \n",
    "    mutant_label = np.ones(len(mutant))\n",
    "    \n",
    "    # Concatenate data frames and label arrays\n",
    "\n",
    "    X_train_full = pd.concat([wt.reset_index(), mutant.reset_index()])\n",
    "    y_train_full = np.concatenate((wt_label, mutant_label))\n",
    "    \n",
    "    # Separate training and validation sets and print relevant shapes\n",
    "    \n",
    "    X_train, X_valid, y_train, y_valid = train_test_split(X_train_full, y_train_full, stratify=y_train_full, test_size=0.2)\n",
    "    \n",
    "    print('Window size:', str(window))\n",
    "    print(X_train.shape)\n",
    "    print(X_valid.shape)\n",
    "    print(y_train.shape)\n",
    "    print(y_valid.shape)\n",
    "    \n",
    "    return X_train, X_valid, y_train, y_valid"
   ]
  },
  {
   "cell_type": "code",
   "execution_count": 43,
   "metadata": {},
   "outputs": [
    {
     "name": "stdout",
     "output_type": "stream",
     "text": [
      "Window size: 23\n",
      "(64000, 247)\n",
      "(16000, 247)\n",
      "(64000,)\n",
      "(16000,)\n"
     ]
    },
    {
     "name": "stderr",
     "output_type": "stream",
     "text": [
      "/home/rojw/anaconda3/lib/python3.7/site-packages/sklearn/model_selection/_split.py:1609: DeprecationWarning: `np.int` is a deprecated alias for the builtin `int`. To silence this warning, use `int` by itself. Doing this will not modify any behavior and is safe. When replacing `np.int`, you may wish to use e.g. `np.int64` or `np.int32` to specify the precision. If you wish to review your current use, check the release note link for additional information.\n",
      "Deprecated in NumPy 1.20; for more details and guidance: https://numpy.org/devdocs/release/1.20.0-notes.html#deprecations\n",
      "  return floored.astype(np.int)\n",
      "/home/rojw/anaconda3/lib/python3.7/site-packages/sklearn/model_selection/_split.py:1609: DeprecationWarning: `np.int` is a deprecated alias for the builtin `int`. To silence this warning, use `int` by itself. Doing this will not modify any behavior and is safe. When replacing `np.int`, you may wish to use e.g. `np.int64` or `np.int32` to specify the precision. If you wish to review your current use, check the release note link for additional information.\n",
      "Deprecated in NumPy 1.20; for more details and guidance: https://numpy.org/devdocs/release/1.20.0-notes.html#deprecations\n",
      "  return floored.astype(np.int)\n"
     ]
    }
   ],
   "source": [
    "X_train_unf, X_valid_unf, y_train_unf, y_valid_unf = preprocessing(wt_unf, D132H_unf)"
   ]
  },
  {
   "cell_type": "code",
   "execution_count": 47,
   "metadata": {},
   "outputs": [],
   "source": [
    "def get_ae(train_data, LeReLU_alpha=0.01):\n",
    "    \n",
    "    #Input layer\n",
    "    input_layer = Input(shape=(train_data.shape[1]), name='ae_input')\n",
    "    \n",
    "    encoder = Dense(256, activation=LeakyReLU(alpha=LeReLU_alpha), name='dense_e1')(input_layer)\n",
    "    encoder = Dense(128, activation=LeakyReLU(alpha=LeReLU_alpha), name='dense_e2')(encoder)\n",
    "    encoder = Dense(64, activation=LeakyReLU(alpha=LeReLU_alpha), name='dense_e3')(encoder)\n",
    "    encoder = Dense(32, activation=LeakyReLU(alpha=LeReLU_alpha), name='dense_e4')(encoder)\n",
    "    encoder = Dense(16, activation=LeakyReLU(alpha=LeReLU_alpha), name='dense_e5')(encoder)\n",
    "    encoder = Dense(8, activation=LeakyReLU(alpha=LeReLU_alpha), name='dense_e6')(encoder)\n",
    "\n",
    "    encoded = Dense(2, activation=LeakyReLU(alpha=LeReLU_alpha), name='ae_latent')(encoder)\n",
    "    \n",
    "    decoder = Dense(8, activation=LeakyReLU(alpha=LeReLU_alpha), name='dense_d1')(encoded)\n",
    "    decoder = Dense(16, activation=LeakyReLU(alpha=LeReLU_alpha), name='dense_d2')(decoder)\n",
    "    decoder = Dense(32, activation=LeakyReLU(alpha=LeReLU_alpha), name='dense_d3')(decoder)\n",
    "    decoder = Dense(64, activation=LeakyReLU(alpha=LeReLU_alpha), name='dense_d4')(decoder)\n",
    "    decoder = Dense(128, activation=LeakyReLU(alpha=LeReLU_alpha), name='dense_d5')(decoder)\n",
    "    decoder = Dense(256, activation=LeakyReLU(alpha=LeReLU_alpha), name='dense_d6')(decoder)\n",
    "\n",
    "    output_layer = Dense(train_data.shape[1], activation=LeakyReLU(alpha=LeReLU_alpha), name='ae_output')(decoder)\n",
    "    \n",
    "    model = Model(input_layer, output_layer)\n",
    "\n",
    "    return model   "
   ]
  },
  {
   "cell_type": "code",
   "execution_count": 48,
   "metadata": {},
   "outputs": [],
   "source": [
    "autoencoder = get_ae(X_train_unf)"
   ]
  },
  {
   "cell_type": "code",
   "execution_count": 49,
   "metadata": {},
   "outputs": [
    {
     "name": "stdout",
     "output_type": "stream",
     "text": [
      "Model: \"model_5\"\n",
      "_________________________________________________________________\n",
      " Layer (type)                Output Shape              Param #   \n",
      "=================================================================\n",
      " ae_input (InputLayer)       [(None, 247)]             0         \n",
      "                                                                 \n",
      " dense_e1 (Dense)            (None, 256)               63488     \n",
      "                                                                 \n",
      " dense_e2 (Dense)            (None, 128)               32896     \n",
      "                                                                 \n",
      " dense_e3 (Dense)            (None, 64)                8256      \n",
      "                                                                 \n",
      " dense_e4 (Dense)            (None, 32)                2080      \n",
      "                                                                 \n",
      " dense_e5 (Dense)            (None, 16)                528       \n",
      "                                                                 \n",
      " dense_e6 (Dense)            (None, 8)                 136       \n",
      "                                                                 \n",
      " ae_latent (Dense)           (None, 2)                 18        \n",
      "                                                                 \n",
      " dense_d1 (Dense)            (None, 8)                 24        \n",
      "                                                                 \n",
      " dense_d2 (Dense)            (None, 16)                144       \n",
      "                                                                 \n",
      " dense_d3 (Dense)            (None, 32)                544       \n",
      "                                                                 \n",
      " dense_d4 (Dense)            (None, 64)                2112      \n",
      "                                                                 \n",
      " dense_d5 (Dense)            (None, 128)               8320      \n",
      "                                                                 \n",
      " dense_d6 (Dense)            (None, 256)               33024     \n",
      "                                                                 \n",
      " ae_output (Dense)           (None, 247)               63479     \n",
      "                                                                 \n",
      "=================================================================\n",
      "Total params: 215,049\n",
      "Trainable params: 215,049\n",
      "Non-trainable params: 0\n",
      "_________________________________________________________________\n"
     ]
    }
   ],
   "source": [
    "autoencoder.summary()"
   ]
  },
  {
   "cell_type": "code",
   "execution_count": 50,
   "metadata": {},
   "outputs": [],
   "source": [
    "# Compile the model\n",
    "autoencoder.compile(loss=tf.keras.losses.MeanSquaredError(), optimizer=tf.keras.optimizers.Adam(learning_rate = 0.005))"
   ]
  },
  {
   "cell_type": "code",
   "execution_count": 51,
   "metadata": {},
   "outputs": [
    {
     "data": {
      "text/plain": [
       "(16000, 247)"
      ]
     },
     "execution_count": 51,
     "metadata": {},
     "output_type": "execute_result"
    }
   ],
   "source": [
    "X_valid.shape"
   ]
  },
  {
   "cell_type": "code",
   "execution_count": 52,
   "metadata": {},
   "outputs": [
    {
     "name": "stdout",
     "output_type": "stream",
     "text": [
      "Epoch 1/10\n",
      "50/50 [==============================] - 2s 24ms/step - loss: 162823.2812 - val_loss: 6734.2974\n",
      "Epoch 2/10\n",
      "50/50 [==============================] - 1s 19ms/step - loss: 4787.2358 - val_loss: 3154.2363\n",
      "Epoch 3/10\n",
      "50/50 [==============================] - 1s 19ms/step - loss: 2890.8171 - val_loss: 3518.8694\n",
      "Epoch 4/10\n",
      "50/50 [==============================] - 1s 19ms/step - loss: 3481.0459 - val_loss: 5906.9829\n",
      "Epoch 5/10\n",
      "50/50 [==============================] - 1s 19ms/step - loss: 3371.8430 - val_loss: 2281.4287\n",
      "Epoch 6/10\n",
      "50/50 [==============================] - 1s 19ms/step - loss: 2067.4070 - val_loss: 2020.0264\n",
      "Epoch 7/10\n",
      "50/50 [==============================] - 1s 20ms/step - loss: 1963.7938 - val_loss: 2087.1836\n",
      "Epoch 8/10\n",
      "50/50 [==============================] - 1s 19ms/step - loss: 2224.2866 - val_loss: 2462.0068\n",
      "Epoch 9/10\n",
      "50/50 [==============================] - 1s 19ms/step - loss: 1737.0797 - val_loss: 1852.2086\n",
      "Epoch 10/10\n",
      "50/50 [==============================] - 1s 19ms/step - loss: 3568.6946 - val_loss: 2955.6179\n"
     ]
    },
    {
     "data": {
      "text/plain": [
       "<Figure size 432x288 with 0 Axes>"
      ]
     },
     "metadata": {},
     "output_type": "display_data"
    }
   ],
   "source": [
    "history = autoencoder.fit(X_train_unf, X_train_unf, batch_size = 1280, \n",
    "                              epochs = 10, validation_data = (X_valid_unf, X_valid_unf))\n",
    "name = \"unFILT_a87_i50_SAE_complex1_0.2_lr5_10e5_\"\n",
    "    # convert history object to dataframe and plot rates\n",
    "training_history = pd.DataFrame(history.history)\n",
    "plt.plot (training_history);\n",
    "file_name_0 = name + \"_training_history\" + str(counts)\n",
    "training_history.to_pickle(file_name_0)\n",
    "file_name_1 = name + str(1) + \"_#1.png\"\n",
    "plt.savefig(file_name_1, dpi=300)\n",
    "plt.clf()"
   ]
  },
  {
   "cell_type": "code",
   "execution_count": 63,
   "metadata": {},
   "outputs": [
    {
     "data": {
      "text/plain": [
       "(16000, 247)"
      ]
     },
     "execution_count": 63,
     "metadata": {},
     "output_type": "execute_result"
    }
   ],
   "source": [
    "X_valid.shape"
   ]
  },
  {
   "cell_type": "code",
   "execution_count": 74,
   "metadata": {},
   "outputs": [],
   "source": [
    "a=np.array([X_valid.iloc[3]])"
   ]
  },
  {
   "cell_type": "code",
   "execution_count": 75,
   "metadata": {},
   "outputs": [
    {
     "data": {
      "text/plain": [
       "(1, 247)"
      ]
     },
     "execution_count": 75,
     "metadata": {},
     "output_type": "execute_result"
    }
   ],
   "source": [
    "a.shape"
   ]
  },
  {
   "cell_type": "code",
   "execution_count": 68,
   "metadata": {},
   "outputs": [
    {
     "name": "stdout",
     "output_type": "stream",
     "text": [
      "Model: \"model_9\"\n",
      "_________________________________________________________________\n",
      " Layer (type)                Output Shape              Param #   \n",
      "=================================================================\n",
      " ae_input (InputLayer)       [(None, 247)]             0         \n",
      "                                                                 \n",
      " dense_e1 (Dense)            (None, 256)               63488     \n",
      "                                                                 \n",
      " dense_e2 (Dense)            (None, 128)               32896     \n",
      "                                                                 \n",
      " dense_e3 (Dense)            (None, 64)                8256      \n",
      "                                                                 \n",
      " dense_e4 (Dense)            (None, 32)                2080      \n",
      "                                                                 \n",
      " dense_e5 (Dense)            (None, 16)                528       \n",
      "                                                                 \n",
      " dense_e6 (Dense)            (None, 8)                 136       \n",
      "                                                                 \n",
      " ae_latent (Dense)           (None, 2)                 18        \n",
      "                                                                 \n",
      "=================================================================\n",
      "Total params: 107,402\n",
      "Trainable params: 107,402\n",
      "Non-trainable params: 0\n",
      "_________________________________________________________________\n"
     ]
    }
   ],
   "source": [
    "dr_model = tf.keras.models.Model(inputs  = autoencoder.get_layer('ae_input').input, \n",
    "                                 outputs = autoencoder.get_layer('ae_latent').output)\n",
    "dr_model.summary()\n",
    "    \n",
    "    # put the validation data through current latent layer model\n",
    "x = []\n",
    "y = []\n",
    "z = []\n",
    "for i in range(16):\n",
    "    z.append(y_valid_unf[i])\n",
    "    op = dr_model.predict(np.array([X_valid_unf.iloc[i]]))\n",
    "    x.append(op[0][0])\n",
    "    y.append(op[0][1])"
   ]
  },
  {
   "cell_type": "code",
   "execution_count": 71,
   "metadata": {},
   "outputs": [
    {
     "data": {
      "text/plain": [
       "<Figure size 576x432 with 0 Axes>"
      ]
     },
     "metadata": {},
     "output_type": "display_data"
    }
   ],
   "source": [
    "    df = pd.DataFrame()\n",
    "    df['x'] = x\n",
    "    df['y'] = y\n",
    "    df['z'] = [\"trajectory-\" + str(k) for k in z]\n",
    " \n",
    "    plt.figure(figsize = (8, 6));\n",
    "    fig = sns.scatterplot(x = 'x', y='y', hue='z', data=df, s=10)\n",
    "    file_name_2 = name + str(1) + \"_#2.png\"\n",
    "    fig.figure.savefig(file_name_2, dpi = 300)\n",
    "    plt.clf()"
   ]
  },
  {
   "cell_type": "code",
   "execution_count": null,
   "metadata": {},
   "outputs": [],
   "source": [
    "%%capture\n",
    "plt.clf()\n",
    "for counts in range (0,10000): #this determines the number of epoch sets\n",
    "    history = autoencoder.fit(X_train_unf, X_train_unf, batch_size = 1280, \n",
    "                              epochs = 10000, validation_data = (X_valid_unf, X_valid_unf))\n",
    "    name = \"unFILT_a87_i50_SAE_complex1_0.2_lr5_10e5_\"\n",
    "    # convert history object to dataframe and plot rates\n",
    "    training_history = pd.DataFrame(history.history)\n",
    "    plt.plot (training_history);\n",
    "    file_name_0 = name + \"_training_history\" + str(counts)\n",
    "    training_history.to_pickle(file_name_0)\n",
    "    file_name_1 = name + str(counts) + \"_#1.png\"\n",
    "    plt.savefig(file_name_1, dpi=300)\n",
    "    plt.clf()\n",
    "    \n",
    "    # read in latent layer\n",
    "    dr_model = tf.keras.models.Model(inputs  = autoencoder.get_layer('ae_input').input, \n",
    "                                     outputs = autoencoder.get_layer('ae_latent').output)\n",
    "    dr_model.summary()\n",
    "    \n",
    "    # put the validation data through current latent layer model\n",
    "    x = []\n",
    "    y = []\n",
    "    z = []\n",
    "    for i in range(16000):\n",
    "        z.append(y_valid_unf[i])\n",
    "        op = dr_model.predict(np.array([X_valid_unf.iloc[i]]))\n",
    "        x.append(op[0][0])\n",
    "        y.append(op[0][1])\n",
    "\n",
    "    df = pd.DataFrame()\n",
    "    df['x'] = x\n",
    "    df['y'] = y\n",
    "    df['z'] = [\"trajectory-\" + str(k) for k in z]\n",
    " \n",
    "    plt.figure(figsize = (8, 6));\n",
    "    fig = sns.scatterplot(x = 'x', y='y', hue='z', data=df, s=10)\n",
    "    file_name_2 = name + str(counts) + \"_#2.png\"\n",
    "    fig.figure.savefig(file_name_2, dpi = 300)\n",
    "    plt.clf()\n",
    "    \n",
    "    #\n",
    "    file_name_3 = str(counts)\n",
    "    df.to_pickle(file_name_3 )\n",
    "\n",
    "    file_name = 'models/saved_model_unFILT_' + str(counts)\n",
    "    autoencoder.save(file_name)"
   ]
  },
  {
   "cell_type": "code",
   "execution_count": null,
   "metadata": {},
   "outputs": [],
   "source": []
  }
 ],
 "metadata": {
  "colab": {
   "collapsed_sections": [],
   "name": "2_wt-D132-H_trajectory_autoencoder.ipynb",
   "provenance": []
  },
  "kernelspec": {
   "display_name": "Python 3",
   "language": "python",
   "name": "python3"
  },
  "language_info": {
   "codemirror_mode": {
    "name": "ipython",
    "version": 3
   },
   "file_extension": ".py",
   "mimetype": "text/x-python",
   "name": "python",
   "nbconvert_exporter": "python",
   "pygments_lexer": "ipython3",
   "version": "3.8.5"
  }
 },
 "nbformat": 4,
 "nbformat_minor": 1
}
